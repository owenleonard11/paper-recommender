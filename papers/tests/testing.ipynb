{
 "cells": [
  {
   "cell_type": "markdown",
   "metadata": {},
   "source": [
    "## Instance Creation and Basic Tests"
   ]
  },
  {
   "cell_type": "code",
   "execution_count": 1,
   "metadata": {},
   "outputs": [
    {
     "name": "stderr",
     "output_type": "stream",
     "text": [
      "[nltk_data] Downloading package wordnet to\n",
      "[nltk_data]     C:\\Users\\owenl\\AppData\\Roaming\\nltk_data...\n",
      "[nltk_data]   Package wordnet is already up-to-date!\n"
     ]
    }
   ],
   "source": [
    "from IPython.display import display, Markdown\n",
    "import papers.Calls as c\n",
    "t_inst = c.CallInstance(scope=\"pages\", n=5) # See documentation for details on 'scope'"
   ]
  },
  {
   "cell_type": "code",
   "execution_count": 2,
   "metadata": {},
   "outputs": [
    {
     "data": {
      "text/plain": [
       "150"
      ]
     },
     "execution_count": 2,
     "metadata": {},
     "output_type": "execute_result"
    }
   ],
   "source": [
    "# Should be 150 if scraper is left as is\n",
    "len(t_inst.calls)"
   ]
  },
  {
   "cell_type": "code",
   "execution_count": 3,
   "metadata": {},
   "outputs": [
    {
     "data": {
      "text/plain": [
       "'Stories from ancient Greek myths dot the literary landscape of the early 21st century. To some extent, this has been the result of deliberate planning, as when Canongate began publishing a series of mythological retellings by well-known authors in 2005. But alongside and independent of such coordinated efforts to keep old tales alive for contemporary audiences, offerings from both established authors (David Malouf, Barry Unsworth, Colm Toibin, Pat Barker) and successful newcomers (Madeline Miller, Daisy Johnson) have likewise retold and reimagined mythical narratives in recent years.'"
      ]
     },
     "execution_count": 3,
     "metadata": {},
     "output_type": "execute_result"
    }
   ],
   "source": [
    "# A text representation of the description provided on the index page\n",
    "t_inst.calls[18].description"
   ]
  },
  {
   "cell_type": "code",
   "execution_count": 4,
   "metadata": {},
   "outputs": [
    {
     "data": {
      "text/plain": [
       "'International Journal of Humanities, Art and Social Studies (IJHAS)'"
      ]
     },
     "execution_count": 4,
     "metadata": {},
     "output_type": "execute_result"
    }
   ],
   "source": [
    "# A string representing the source of the call\n",
    "t_inst.calls[0].source"
   ]
  },
  {
   "cell_type": "code",
   "execution_count": 5,
   "metadata": {},
   "outputs": [
    {
     "data": {
      "text/plain": [
       "'IJHAS'"
      ]
     },
     "execution_count": 5,
     "metadata": {},
     "output_type": "execute_result"
    }
   ],
   "source": [
    "# A string representation of a contact, usually a journal, inidividual, or conference\n",
    "t_inst.calls[2].contact"
   ]
  },
  {
   "cell_type": "markdown",
   "metadata": {},
   "source": [
    "## Call Page Scraping Tests"
   ]
  },
  {
   "cell_type": "code",
   "execution_count": 6,
   "metadata": {},
   "outputs": [
    {
     "data": {
      "text/plain": [
       "'mailto:mollieei@usc.edu'"
      ]
     },
     "execution_count": 6,
     "metadata": {},
     "output_type": "execute_result"
    }
   ],
   "source": [
    "# A mailto link for a contact\n",
    "t_inst.calls[11].contact_email"
   ]
  },
  {
   "cell_type": "code",
   "execution_count": 7,
   "metadata": {},
   "outputs": [
    {
     "data": {
      "text/plain": [
       "'The Texas Center for Working-Class Studies, housed at Collin College, a two-year institution serving Collin County, is pleased to announce a one-day Working-Class Studies virtual conference for interested scholars and students. The conference will consist of panels in a range of disciplines and on a variety of issues related to social class and labor issues, both historical and contemporary.\\nDue to concerns related to COVID-19, the 2021 conference will be held virtually through Zoom on Thursday, February 18, 2021. Concurrent sessions will run throughout the day and will be both live-streamed and recorded. While the format may be different, the spirit of the conference will be the same. We look forward to thought-provoking presentations, discussions, and ideas.\\nConference organizers invite scholars from all disciplines to take part in this conference and submit proposals for individual papers, full sessions, roundtables, or workshops. Graduate and undergraduate students, in particular, are encouraged to submit their work.\\nPotential topics might include:\\n\\nWorking-Class Literature\\nThe Worker and the Modern Workplace\\nUnderstanding Working-Class Studies\\nThe Future of Working-Class Studies\\nWorking-Class History\\nConnections among Race, Class, and/or Gender\\nClass Representations in the Media and Popular Culture\\nThe Complexity of Social Class\\nThe Pedagogy of Social Class\\n\\n\\xa0\\nThose interested should submit an abstract of no more than 150 words, as well as a brief biography, to Digital Commons@Collin (http://digitalcommons.collin.edu/txcwcs/) by Friday, November 20, 2020. For more information, please contact Dr. Lisa A. Kirby, Director of the Texas Center for Working-Class Studies and Professor of English, at LKirby@collin.edu.\\n'"
      ]
     },
     "execution_count": 7,
     "metadata": {},
     "output_type": "execute_result"
    }
   ],
   "source": [
    "# A long text description of a call\n",
    "t_inst.calls[27].long_desc"
   ]
  },
  {
   "cell_type": "code",
   "execution_count": 8,
   "metadata": {},
   "outputs": [
    {
     "data": {
      "text/plain": [
       "['general announcements',\n",
       " 'journals and collections of essays',\n",
       " 'professional topics']"
      ]
     },
     "execution_count": 8,
     "metadata": {},
     "output_type": "execute_result"
    }
   ],
   "source": [
    "# A list of categories as strings\n",
    "t_inst.calls[21].categories"
   ]
  },
  {
   "cell_type": "markdown",
   "metadata": {},
   "source": [
    "## Recommendation Tests"
   ]
  },
  {
   "cell_type": "code",
   "execution_count": 9,
   "metadata": {},
   "outputs": [
    {
     "data": {
      "text/plain": [
       "[<papers.Calls.CallRec at 0x1c55e5b4ee0>,\n",
       " <papers.Calls.CallRec at 0x1c5599a51c0>,\n",
       " <papers.Calls.CallRec at 0x1c559999820>,\n",
       " <papers.Calls.CallRec at 0x1c55e5b40d0>,\n",
       " <papers.Calls.CallRec at 0x1c5599a0130>,\n",
       " <papers.Calls.CallRec at 0x1c5599a5a00>,\n",
       " <papers.Calls.CallRec at 0x1c559999670>]"
      ]
     },
     "execution_count": 9,
     "metadata": {},
     "output_type": "execute_result"
    }
   ],
   "source": [
    "# Should be a string, most likely 'No information about this recommendation is available'\n",
    "t_inst.keyword_recommend(['Oil', 'Water', 'Bio', 'Petrol']).recs"
   ]
  },
  {
   "cell_type": "code",
   "execution_count": 10,
   "metadata": {},
   "outputs": [
    {
     "data": {
      "text/plain": [
       "<papers.Calls.RecList at 0x1c55e710eb0>"
      ]
     },
     "execution_count": 10,
     "metadata": {},
     "output_type": "execute_result"
    }
   ],
   "source": [
    "# List of CallRec objects\n",
    "t_inst.abstract_recommend(\"Historically, critical analysis has focused on the use of race as a vector\\\n",
    "                          for understanding black female sexuality.  Whether postcolonial or psychoanalytic\")"
   ]
  },
  {
   "cell_type": "code",
   "execution_count": 11,
   "metadata": {},
   "outputs": [
    {
     "data": {
      "text/markdown": [
       "### Endless Beginner: Adrienne Rich in the Twenty-First Century\n",
       "relevancy: 0.63 | deadline: Tuesday, December 1, 2020 | updated: Friday, September 18, 2020 - 9:49am\n",
       "\n",
       "Re-reading Adrienne Rich in the quickly shifting crises of the year 2020, one senses the renewed urgency of her ethico-political project as a citizen poet seeking to “believe the fever can break, the sick body politic come back to life” (A Human Eye 98). Throughout her poetic career Rich challenged the perceived disconnect between poetry and material social good, and while her early and mid-career poems may be the most frequently anthologized, the poetry and prose she published in the second half of her six-decade project continues an extraordinary trajectory of expanding solidarities and poetic technique.\n",
       "\n",
       "\n",
       "\n",
       "[contact email](mailto:cwallace@stmcollege.ca) | [call page](https://call-for-papers.sas.upenn.edu/cfp/2020/09/16/endless-beginner-adrienne-rich-in-the-twenty-first-century)\n",
       "\n",
       "### Chapter on Molly Keane (M.J. Farrell) and the Gothic for edited collection \"Middlebrow Gothic: Dark Domesticity in British Popular Fiction, 1920-1960\"\n",
       "relevancy: 0.63 | deadline: Saturday, October 10, 2020 | updated: Monday, September 14, 2020 - 2:05pm\n",
       "\n",
       "A chapter which explores the fiction of middlebrow author Molly Keane (alias: M.J. Farrell) in realtion to the Gothic is sought to round off the edited collection Middlebrow Gothic: Dark Domesticity in British Popular Fiction, 1920-1960.\n",
       " \n",
       "The original CfP is as follows:\n",
       " \n",
       "\n",
       "\n",
       "\n",
       "[contact email](mailto:middlebrowgothic@gmail.com) | [call page](https://call-for-papers.sas.upenn.edu/cfp/2020/09/12/chapter-on-molly-keane-mj-farrell-and-the-gothic-for-edited-collection-middlebrow)\n",
       "\n",
       "### Remainder from Epistemology: Exploring the Discursive Possibilities of Aporia\n",
       "relevancy: 0.57 | deadline: Thursday, October 15, 2020 | updated: Saturday, September 26, 2020 - 3:23am\n",
       "\n",
       "Remainder from Epistemology: Exploring the Discursive Possibilities of Aporia\n",
       "Man has not been able to describe himself as a configuration in the episteme without thought at the same time discovering, both in itself and outside itself, at the borders yet also in its very warp and woof, an element of darkness, an apparently inert density in which it is embedded, an unthought which it contains entirely, yet in which it is also caught.\n",
       "– Michel Foucault\n",
       "\n",
       "\n",
       "\n",
       "[contact email](mailto:llids.journal@gmail.com) | [call page](https://call-for-papers.sas.upenn.edu/cfp/2020/08/09/remainder-from-epistemology-exploring-the-discursive-possibilities-of-aporia)\n",
       "\n",
       "### NeMLA's First Ever Virtual Convention\n",
       "relevancy: 0.45 | deadline: Sunday, October 11, 2020 | updated: Friday, September 25, 2020 - 1:00pm\n",
       "\n",
       "NeMLA's 2021 convention is officially going virtual!\n",
       " \n",
       "While we will miss seeing all of you in person next spring, we are excited to focus our energies into making the friendliest academic conference the best possible virtual conference. \n",
       " \n",
       "Many factors played into this decision, the most important of which is the health and safety of our members. Please know that: \n",
       " \n",
       "\n",
       "\n",
       "\n",
       "[contact email](mailto:support@nemla.org) | [call page](https://call-for-papers.sas.upenn.edu/cfp/2020/06/16/nemlas-first-ever-virtual-convention)\n",
       "\n",
       "### Call for Abstracts: NeMLA 2021 Panel (Virtual/Hybrid Platform) on Newspapers, Modernism, and Transnational Print Networks\n",
       "relevancy: 0.35 | deadline: Wednesday, September 30, 2020 | updated: Friday, September 18, 2020 - 9:48am\n",
       "\n",
       "The 52nd NeMLA (Northeast Modern Language Association) Convention (Philadelphia, PA) is now going to be held on a hybrid/virtual platform between March 11 and 14, 2021. This means you can present your papers virtually from anywhere in the world without having to travel to Philadelphia, PA. We now hope to hear more from scholars and students living outside of the US. Please consider sending your abstracts to our panels by September 30! See this link for more instructions: http://www.buffalo.edu/nemla/convention/callforpapers/submit.html\n",
       " Reposting my own panel description here for anyone interested in global modernism and print networks:\n",
       "\n",
       "\n",
       "\n",
       "[contact email](mailto:dmaitra@buffalo.edu) | [call page](https://call-for-papers.sas.upenn.edu/cfp/2020/09/16/call-for-abstracts-nemla-2021-panel-virtualhybrid-platform-on-newspapers-modernism)\n",
       "\n",
       "### The Detective, the Artist, and the Professor: Genre and Other Critical Mysteries\n",
       "relevancy: 0.34 | deadline: Sunday, October 11, 2020 | updated: Friday, September 25, 2020 - 11:59am\n",
       "\n",
       "This is a call for papers for a panel to run at NeMLA 2021, which will be conducted virtually March 11-14, 2021. Submit an abstract by October 11, 2020 [deadline extended] here: https://www.cfplist.com/nemla/Home/S/18807\n",
       "This panel seeks to convene a conversation that theorizes the relationship between the detective novel, the art novel as it has been understood since modernism, and professional literary study—and in doing so move the critical study of detective fiction beyond the impulse to validate the genre as an object of study or redeem it from the stigma of genre.\n",
       "\n",
       "\n",
       "\n",
       "[contact email](mailto:mollieei@usc.edu) | [call page](https://call-for-papers.sas.upenn.edu/cfp/2020/09/14/the-detective-the-artist-and-the-professor-genre-and-other-critical-mysteries)\n",
       "\n",
       "### IV. INTERNATIONAL CONFERENCE ON AWARENESS  / LANGUAGE AND AWARENESS\n",
       "relevancy: 0.33 | deadline: Friday, November 13, 2020 | updated: Friday, September 11, 2020 - 1:45pm\n",
       "\n",
       "Dear colleagues!\n",
       "We invite you to participate in the online IV. International Conference on Awareness “LANGUAGE and AWARENESS”. Time: 2-4 December, 2020 (Big Blue Button platform).\n",
       "The language reflects the essence of a thousand-year existence of a man in society, passed through a time filter. In this regard, a language consisting of tens of thousands of words and forms, delving into the details of its structure and functioning, appears before us as a universal system that controls the existence of people, society, nation and culture.\n",
       "\n",
       "\n",
       "\n",
       "[contact email](mailto:mehmetsahin@comu.edu.tr) | [call page](https://call-for-papers.sas.upenn.edu/cfp/2020/09/08/iv-international-conference-on-awareness-language-and-awareness)\n",
       "\n",
       "### Body Politics: Rethinking Gender and Masculinity\n",
       "relevancy: 0.30 | deadline: Wednesday, September 30, 2020 | updated: Friday, September 11, 2020 - 1:39pm\n",
       "\n",
       "Concept Note: The research on men and masculinities traces back to the women’s and gay liberation movements that challenged existing understandings of gender and power. Though the initial formulations of Masculinity Studies had started much early around the 1970s, it was not until the empirical research around 1980s-1990s that it began to develop as a newly formed discipline. As a logical extension of Feminism, Masculinity Studies looks into sex and/or gender as a discursive social construct and tries to understand them through theoretical hermeneutics.\n",
       "\n",
       "\n",
       "\n",
       "[contact email](mailto:bodypoliticsmasculinity@gmail.com) | [call page](https://call-for-papers.sas.upenn.edu/cfp/2020/09/07/body-politics-rethinking-gender-and-masculinity)\n",
       "\n"
      ],
      "text/plain": [
       "<IPython.core.display.Markdown object>"
      ]
     },
     "metadata": {},
     "output_type": "display_data"
    }
   ],
   "source": [
    "# Nicely formatted markdown representation of search results\n",
    "display(t_inst.title_recommend(\"Sex as Structure: Complexities of Modernism in Marx and Foucault\").show())"
   ]
  },
  {
   "cell_type": "code",
   "execution_count": null,
   "metadata": {},
   "outputs": [],
   "source": []
  }
 ],
 "metadata": {
  "kernelspec": {
   "display_name": "Python 3",
   "language": "python",
   "name": "python3"
  },
  "language_info": {
   "codemirror_mode": {
    "name": "ipython",
    "version": 3
   },
   "file_extension": ".py",
   "mimetype": "text/x-python",
   "name": "python",
   "nbconvert_exporter": "python",
   "pygments_lexer": "ipython3",
   "version": "3.8.3"
  }
 },
 "nbformat": 4,
 "nbformat_minor": 4
}
