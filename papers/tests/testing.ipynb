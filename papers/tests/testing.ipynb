{
 "cells": [
  {
   "cell_type": "markdown",
   "metadata": {},
   "source": [
    "## Instance Creation and Basic Tests"
   ]
  },
  {
   "cell_type": "code",
   "execution_count": 1,
   "metadata": {},
   "outputs": [
    {
     "name": "stderr",
     "output_type": "stream",
     "text": [
      "[nltk_data] Downloading package wordnet to\n",
      "[nltk_data]     C:\\Users\\owenl\\AppData\\Roaming\\nltk_data...\n",
      "[nltk_data]   Package wordnet is already up-to-date!\n"
     ]
    }
   ],
   "source": [
    "from IPython.display import display, Markdown\n",
    "import papers.Calls as c\n",
    "t_inst = c.CallInstance(scope=\"pages\",n=1) # See documentation for details on 'scope'"
   ]
  },
  {
   "cell_type": "code",
   "execution_count": 2,
   "metadata": {},
   "outputs": [
    {
     "data": {
      "text/plain": [
       "30"
      ]
     },
     "execution_count": 2,
     "metadata": {},
     "output_type": "execute_result"
    }
   ],
   "source": [
    "# Should be 30 if scraper is left as is\n",
    "len(t_inst.calls)"
   ]
  },
  {
   "cell_type": "code",
   "execution_count": 3,
   "metadata": {},
   "outputs": [
    {
     "data": {
      "text/plain": [
       "'Stories from ancient Greek myths dot the literary landscape of the early 21st century. To some extent, this has been the result of deliberate planning, as when Canongate began publishing a series of mythological retellings by well-known authors in 2005. But alongside and independent of such coordinated efforts to keep old tales alive for contemporary audiences, offerings from both established authors (David Malouf, Barry Unsworth, Colm Toibin, Pat Barker) and successful newcomers (Madeline Miller, Daisy Johnson) have likewise retold and reimagined mythical narratives in recent years.'"
      ]
     },
     "execution_count": 3,
     "metadata": {},
     "output_type": "execute_result"
    }
   ],
   "source": [
    "# A text representation of the description provided on the index page\n",
    "t_inst.calls[18].description"
   ]
  },
  {
   "cell_type": "code",
   "execution_count": 4,
   "metadata": {},
   "outputs": [
    {
     "data": {
      "text/plain": [
       "'International Journal of Humanities, Art and Social Studies (IJHAS)'"
      ]
     },
     "execution_count": 4,
     "metadata": {},
     "output_type": "execute_result"
    }
   ],
   "source": [
    "# A string representing the source of the call\n",
    "t_inst.calls[0].source"
   ]
  },
  {
   "cell_type": "code",
   "execution_count": 5,
   "metadata": {},
   "outputs": [
    {
     "data": {
      "text/plain": [
       "'IJHAS'"
      ]
     },
     "execution_count": 5,
     "metadata": {},
     "output_type": "execute_result"
    }
   ],
   "source": [
    "# A string representation of a contact, usually a journal, inidividual, or conference\n",
    "t_inst.calls[2].contact"
   ]
  },
  {
   "cell_type": "markdown",
   "metadata": {},
   "source": [
    "## Call Page Scraping Tests"
   ]
  },
  {
   "cell_type": "code",
   "execution_count": 6,
   "metadata": {},
   "outputs": [
    {
     "data": {
      "text/plain": [
       "'mailto:mollieei@usc.edu'"
      ]
     },
     "execution_count": 6,
     "metadata": {},
     "output_type": "execute_result"
    }
   ],
   "source": [
    "# A mailto link for a contact\n",
    "t_inst.calls[11].contact_email"
   ]
  },
  {
   "cell_type": "code",
   "execution_count": 7,
   "metadata": {},
   "outputs": [
    {
     "data": {
      "text/plain": [
       "'The Texas Center for Working-Class Studies, housed at Collin College, a two-year institution serving Collin County, is pleased to announce a one-day Working-Class Studies virtual conference for interested scholars and students. The conference will consist of panels in a range of disciplines and on a variety of issues related to social class and labor issues, both historical and contemporary.\\nDue to concerns related to COVID-19, the 2021 conference will be held virtually through Zoom on Thursday, February 18, 2021. Concurrent sessions will run throughout the day and will be both live-streamed and recorded. While the format may be different, the spirit of the conference will be the same. We look forward to thought-provoking presentations, discussions, and ideas.\\nConference organizers invite scholars from all disciplines to take part in this conference and submit proposals for individual papers, full sessions, roundtables, or workshops. Graduate and undergraduate students, in particular, are encouraged to submit their work.\\nPotential topics might include:\\n\\nWorking-Class Literature\\nThe Worker and the Modern Workplace\\nUnderstanding Working-Class Studies\\nThe Future of Working-Class Studies\\nWorking-Class History\\nConnections among Race, Class, and/or Gender\\nClass Representations in the Media and Popular Culture\\nThe Complexity of Social Class\\nThe Pedagogy of Social Class\\n\\n\\xa0\\nThose interested should submit an abstract of no more than 150 words, as well as a brief biography, to Digital Commons@Collin (http://digitalcommons.collin.edu/txcwcs/) by Friday, November 20, 2020. For more information, please contact Dr. Lisa A. Kirby, Director of the Texas Center for Working-Class Studies and Professor of English, at LKirby@collin.edu.\\n'"
      ]
     },
     "execution_count": 7,
     "metadata": {},
     "output_type": "execute_result"
    }
   ],
   "source": [
    "# A long text description of a call\n",
    "t_inst.calls[27].long_desc"
   ]
  },
  {
   "cell_type": "code",
   "execution_count": 8,
   "metadata": {},
   "outputs": [
    {
     "data": {
      "text/plain": [
       "['general announcements',\n",
       " 'journals and collections of essays',\n",
       " 'professional topics']"
      ]
     },
     "execution_count": 8,
     "metadata": {},
     "output_type": "execute_result"
    }
   ],
   "source": [
    "# A list of categories as strings\n",
    "t_inst.calls[21].categories"
   ]
  },
  {
   "cell_type": "markdown",
   "metadata": {},
   "source": [
    "## Recommendation Tests"
   ]
  },
  {
   "cell_type": "code",
   "execution_count": 9,
   "metadata": {},
   "outputs": [
    {
     "data": {
      "text/plain": [
       "'No information about this recommendation is available.'"
      ]
     },
     "execution_count": 9,
     "metadata": {},
     "output_type": "execute_result"
    }
   ],
   "source": [
    "# Should be a string, most likely 'No information about this recommendation is available'\n",
    "t_inst.keyword_recommend(['Oil', 'Water', 'Bio', 'Petrol'])[0].rec_info"
   ]
  },
  {
   "cell_type": "code",
   "execution_count": 10,
   "metadata": {},
   "outputs": [
    {
     "data": {
      "text/plain": [
       "[<papers.Calls.CallRec at 0x2443aedfaf0>,\n",
       " <papers.Calls.CallRec at 0x2443aedf130>,\n",
       " <papers.Calls.CallRec at 0x2443e6bea30>,\n",
       " <papers.Calls.CallRec at 0x2443e6befd0>,\n",
       " <papers.Calls.CallRec at 0x2443f9b7a00>,\n",
       " <papers.Calls.CallRec at 0x2443f9b72e0>,\n",
       " <papers.Calls.CallRec at 0x2443f9b7a30>]"
      ]
     },
     "execution_count": 10,
     "metadata": {},
     "output_type": "execute_result"
    }
   ],
   "source": [
    "# List of CallRec objects\n",
    "t_inst.abstract_recommend(\"Historically, critical analysis of Passing has focused on the use of race as a vector\\\n",
    "                          for understanding black female sexuality.  Whether postcolonial or psychoanalytic\")"
   ]
  },
  {
   "cell_type": "code",
   "execution_count": 11,
   "metadata": {},
   "outputs": [
    {
     "data": {
      "text/plain": [
       "[<papers.Calls.CallRec at 0x2443aed9e20>,\n",
       " <papers.Calls.CallRec at 0x2443aed9310>,\n",
       " <papers.Calls.CallRec at 0x2443f9b7490>]"
      ]
     },
     "metadata": {},
     "output_type": "display_data"
    }
   ],
   "source": [
    "# Nicely formatted markdown representation of search results\n",
    "display(t_inst.title_recommend(\"Sex as Structure: Complexities of Modernism in Marx and Foucault\"))"
   ]
  }
 ],
 "metadata": {
  "kernelspec": {
   "display_name": "Python 3",
   "language": "python",
   "name": "python3"
  },
  "language_info": {
   "codemirror_mode": {
    "name": "ipython",
    "version": 3
   },
   "file_extension": ".py",
   "mimetype": "text/x-python",
   "name": "python",
   "nbconvert_exporter": "python",
   "pygments_lexer": "ipython3",
   "version": "3.8.3"
  }
 },
 "nbformat": 4,
 "nbformat_minor": 4
}
